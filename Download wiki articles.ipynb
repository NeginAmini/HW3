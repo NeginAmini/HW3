{
 "cells": [
  {
   "cell_type": "code",
   "execution_count": 109,
   "metadata": {},
   "outputs": [],
   "source": [
    "import os\n",
    "import csv\n",
    "from bs4 import BeautifulSoup\n",
    "import pandas as pd\n",
    "import requests as rq\n",
    "import time\n",
    "import random\n",
    "import unicodedata\n",
    "import nltk\n",
    "from nltk.corpus import stopwords \n",
    "from nltk.tokenize import word_tokenize\n",
    "from nltk.stem import *\n",
    "import string"
   ]
  },
  {
   "cell_type": "code",
   "execution_count": 110,
   "metadata": {},
   "outputs": [],
   "source": [
    "path = os.getcwd()\n",
    "movies = pd.DataFrame(pd.read_html(path + \"\\\\movies-1.html\")[0])\n",
    "movies.drop('Id', inplace=True, axis = 1)"
   ]
  },
  {
   "cell_type": "code",
   "execution_count": 111,
   "metadata": {},
   "outputs": [],
   "source": [
    "# for i in range(len(movies)):\n",
    "#     try:\n",
    "#         response = rq.get(movies.URL[i])\n",
    "#     except rq.exceptions.RequestException as e:\n",
    "#         print(e)\n",
    "#         time.sleep(20*60 + 30)\n",
    "#         response = rq.get(movies.URL[i])\n",
    "#     soup = BeautifulSoup(response.text, 'html.parser')\n",
    "#     f = open('article_'+str(i)+'.html','w')\n",
    "#     f.write(str(soup))\n",
    "#     f.close()\n",
    "#     time.sleep(random.choice(range(1,6)))"
   ]
  },
  {
   "cell_type": "code",
   "execution_count": 112,
   "metadata": {},
   "outputs": [],
   "source": [
    "path1 = path + '\\\\Articles'"
   ]
  },
  {
   "cell_type": "code",
   "execution_count": 189,
   "metadata": {},
   "outputs": [],
   "source": [
    "for i in range(0, 20):\n",
    "    article = open(path1+'\\\\article_'+str(i)+'.html', 'r')\n",
    "    soup = BeautifulSoup(article, 'html.parser')\n",
    "    d = {}\n",
    "    try:\n",
    "        for x in soup.find('table', class_=\"infobox vevent\").find('th').find_all_next('th'):\n",
    "            d[x.text] = unicodedata.normalize('NFKD',x.next_sibling.get_text(separator = '<br/>').replace('<br/>', ',').strip())\n",
    "    except:\n",
    "        pass\n",
    "    title = str(soup.select('h1')[0].text)\n",
    "    #the title had \"- wikipedia\" after the film name. to remove \"- wikipedia\", I used split function and then took the first part\n",
    "    \n",
    "    start = soup.find('p')\n",
    "    intro = start.text.strip()\n",
    "    for elem in start.next_siblings:\n",
    "        if elem.name != 'p':\n",
    "            break\n",
    "        intro += elem.text.strip()   \n",
    "          \n",
    "    try:\n",
    "        start = soup.find('h2').find_next('p')\n",
    "        plot = start.text.strip()\n",
    "        for elem in start.next_siblings:\n",
    "            if elem.name != 'p':\n",
    "                break\n",
    "            plot += elem.text.strip()\n",
    "        \n",
    "    except:\n",
    "        plot = \"NA\"\n",
    "    \n",
    "\n",
    "        \n",
    "        \n",
    "    try :\n",
    "            director = d['Directed by']\n",
    "    except: \n",
    "            director = \"NA\"\n",
    "            \n",
    "    try :\n",
    "            producer = d['Produced by']\n",
    "    except: \n",
    "            producer = \"NA\"\n",
    "            \n",
    "    try :\n",
    "        \n",
    "            writer = d[\"Written by\"]\n",
    "    except:\n",
    "            writer = \"NA\"\n",
    "    \n",
    "    \n",
    "    try :\n",
    "            starring = d[\"Starring\"].strip()\n",
    "    \n",
    "    except:\n",
    "            starring = \"NA\"\n",
    "            \n",
    "    try :\n",
    "        \n",
    "            music = d[\"Music by\"]\n",
    "    except :\n",
    "            music = \"NA\"\n",
    "        \n",
    "    try :\n",
    "            release_date = d[\"Release date\"]\n",
    "            \n",
    "    except :\n",
    "        \n",
    "            release_date = \"NA\"\n",
    "            \n",
    "    try :\n",
    "            run_time = d[\"Running time\"]\n",
    "            \n",
    "    except :\n",
    "            run_time = \"NA\"\n",
    "            \n",
    "    try :\n",
    "            country = d[\"Country\"]\n",
    "            \n",
    "    except :\n",
    "            \n",
    "            country = \"NA\"\n",
    "            \n",
    "    try :\n",
    "            language = d[\"Language\"]\n",
    "            \n",
    "    except:\n",
    "            language = \"NA\"\n",
    "            \n",
    "            \n",
    "    try :\n",
    "            budget = d[\"Budget\"]\n",
    "            \n",
    "    except :\n",
    "            budget = \"NA\"\n",
    "            \n",
    "\n",
    "    with open(path+\"\\\\TSV\\\\article_\" + str(i) + \".tsv\", \"w\" ,encoding=\"utf-8\") as out_file:\n",
    "            tsv_writer = csv.writer(out_file, delimiter='\\t')\n",
    "            tsv_writer.writerow([title, intro, plot, director, producer, writer , starring, music, release_date,run_time, country , language , budget])\n"
   ]
  },
  {
   "cell_type": "code",
   "execution_count": null,
   "metadata": {},
   "outputs": [],
   "source": []
  },
  {
   "cell_type": "code",
   "execution_count": 9,
   "metadata": {},
   "outputs": [],
   "source": [
    "stop_words = set(stopwords.words('english')) \n",
    "stemmer = PorterStemmer()"
   ]
  },
  {
   "cell_type": "code",
   "execution_count": 190,
   "metadata": {},
   "outputs": [],
   "source": [
    "for i in range(0,20):\n",
    "    f = open(\"articl_\" + str(i) + \".tsv\", encoding = \"utf-8\") \n",
    "    text = f.read()\n",
    "    f.close()\n",
    "    \n",
    "    words = word_tokenize(text) #devide the text into substrings\n",
    "    filtered1 = [w for w in words if not w in stop_words] #remove stop words\n",
    "    filtered2 = list(filter(lambda word: word not in string.punctuation, filtered1)) #remove punctuation\n",
    "    filtered3 = [stemmer.stem(w) for w in filtered2] #stemming\n",
    "    filtered4 = [c.replace(\"''\", \"\").replace(\"``\", \"\") for c in filtered3 ] #removing useless '' and  `` characters\n",
    "\n",
    "with open(path + \"\\\\WORDS\\\\final_\" + str(i) + \".tsv\", \"w\" ,encoding=\"utf-8\") as out_file:\n",
    "            tsv_writer = csv.writer(out_file, delimiter='\\t')\n",
    "            tsv_writer.writerow(filtered4)\n",
    "\n"
   ]
  },
  {
   "cell_type": "code",
   "execution_count": 117,
   "metadata": {},
   "outputs": [],
   "source": [
    "path2 = path+'\\\\TSV\\\\'"
   ]
  },
  {
   "cell_type": "code",
   "execution_count": 194,
   "metadata": {},
   "outputs": [],
   "source": [
    "f = open(path2+'article_0.tsv', encoding = 'utf8')"
   ]
  },
  {
   "cell_type": "code",
   "execution_count": 199,
   "metadata": {},
   "outputs": [],
   "source": [
    "with open(path2+'article_6.tsv', encoding = 'utf8') as fd:\n",
    "    rd = csv.reader(fd, delimiter=\"\\t\", quotechar='\"')\n",
    "    for row in rd:\n",
    "        if row :\n",
    "            tsv = row"
   ]
  },
  {
   "cell_type": "code",
   "execution_count": 272,
   "metadata": {},
   "outputs": [],
   "source": [
    "import re\n",
    "\n",
    "d = {}\n",
    "\n",
    "if tsv[6] == 'NA':\n",
    "    d['Starring'] = 0\n",
    "else:\n",
    "    d['Starring'] = len(tsv[6].split(','))\n",
    "\n",
    "try:\n",
    "    d['Release Year'] = re.findall(r'\\d{4}', tsv[8])[0]\n",
    "except:\n",
    "    d['Release Year'] = 0\n",
    "    \n",
    "try:\n",
    "    d['Runtime']      = re.findall(r'\\d+',tsv[9])[0]\n",
    "except:\n",
    "    d['Runtime']    = 0\n",
    "    \n",
    "try:\n",
    "    d['Budget']   = re.findall(r'\\d+', tsv[12])[0]\n",
    "except:\n",
    "    d['Budget']  = 0\n",
    "    "
   ]
  },
  {
   "cell_type": "code",
   "execution_count": 273,
   "metadata": {},
   "outputs": [
    {
     "data": {
      "text/plain": [
       "{'Starring': 1, 'Release Year': '1904', 'Runtime': 0, 'Budget': 0}"
      ]
     },
     "execution_count": 273,
     "metadata": {},
     "output_type": "execute_result"
    }
   ],
   "source": [
    "d"
   ]
  },
  {
   "cell_type": "code",
   "execution_count": 268,
   "metadata": {},
   "outputs": [
    {
     "data": {
      "text/plain": [
       "'150'"
      ]
     },
     "execution_count": 268,
     "metadata": {},
     "output_type": "execute_result"
    }
   ],
   "source": [
    "import re\n",
    "pat = r'\\d+'\n",
    "\n"
   ]
  }
 ],
 "metadata": {
  "kernelspec": {
   "display_name": "Python 3",
   "language": "python",
   "name": "python3"
  },
  "language_info": {
   "codemirror_mode": {
    "name": "ipython",
    "version": 3
   },
   "file_extension": ".py",
   "mimetype": "text/x-python",
   "name": "python",
   "nbconvert_exporter": "python",
   "pygments_lexer": "ipython3",
   "version": "3.7.3"
  }
 },
 "nbformat": 4,
 "nbformat_minor": 2
}

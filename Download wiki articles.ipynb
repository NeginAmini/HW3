{
 "cells": [
  {
   "cell_type": "code",
   "execution_count": 1,
   "metadata": {},
   "outputs": [],
   "source": [
    "import os\n",
    "import csv\n",
    "from bs4 import BeautifulSoup\n",
    "import pandas as pd\n",
    "import requests as rq\n",
    "import time\n",
    "import random\n",
    "import unicodedata\n",
    "import nltk\n",
    "from nltk.corpus import stopwords \n",
    "from nltk.tokenize import word_tokenize\n",
    "from nltk.stem import *\n",
    "import string"
   ]
  },
  {
   "cell_type": "code",
   "execution_count": 2,
   "metadata": {},
   "outputs": [],
   "source": [
    "path = os.getcwd()\n",
    "movies = pd.DataFrame(pd.read_html(path + \"\\\\movies-1.html\")[0])\n",
    "movies.drop('Id', inplace=True, axis = 1)"
   ]
  },
  {
   "cell_type": "code",
   "execution_count": 3,
   "metadata": {},
   "outputs": [],
   "source": [
    "# for i in range(len(movies)):\n",
    "#     try:\n",
    "#         response = rq.get(movies.URL[i])\n",
    "#     except rq.exceptions.RequestException as e:\n",
    "#         print(e)\n",
    "#         time.sleep(20*60 + 30)\n",
    "#         response = rq.get(movies.URL[i])\n",
    "#     soup = BeautifulSoup(response.text, 'html.parser')\n",
    "#     f = open('article_'+str(i)+'.html','w')\n",
    "#     f.write(str(soup))\n",
    "#     f.close()\n",
    "#     time.sleep(random.choice(range(1,6)))"
   ]
  },
  {
   "cell_type": "code",
   "execution_count": 4,
   "metadata": {},
   "outputs": [],
   "source": [
    "path1 = path + '\\\\Articles'"
   ]
  },
  {
   "cell_type": "code",
   "execution_count": 103,
   "metadata": {},
   "outputs": [],
   "source": [
    "for i in range(0, 20):\n",
    "    article = open(path1+'\\\\article_'+str(i)+'.html', 'r')\n",
    "    soup = BeautifulSoup(article, 'html.parser')\n",
    "    d = {}\n",
    "    try:\n",
    "        for x in soup.find('table', class_=\"infobox vevent\").find('th').find_all_next('th'):\n",
    "            d[x.text] = unicodedata.normalize('NFKD',x.next_sibling.get_text(separator = '<br/>').replace('<br/>', ','))\n",
    "    except:\n",
    "        pass\n",
    "    title = str(soup.select('h1')[0].text)\n",
    "    #the title had \"- wikipedia\" after the film name. to remove \"- wikipedia\", I used split function and then took the first part\n",
    "    \n",
    "    start = soup.find('p')\n",
    "    intro = start.text.strip()\n",
    "    for elem in start.next_siblings:\n",
    "        if elem.name != 'p':\n",
    "            break\n",
    "        intro += elem.text.strip()   \n",
    "          \n",
    "    try:\n",
    "        start = soup.find('h2').find_next('p')\n",
    "        plot = start.text.strip()\n",
    "        for elem in start.next_siblings:\n",
    "            if elem.name != 'p':\n",
    "                break\n",
    "            plot += elem.text.strip()\n",
    "        \n",
    "    except:\n",
    "        plot = \"NA\"\n",
    "    \n",
    "\n",
    "        \n",
    "        \n",
    "    try :\n",
    "            director = d['Directed by']\n",
    "    except: \n",
    "            director = \"NA\"\n",
    "            \n",
    "    try :\n",
    "            producer = d['Produced by']\n",
    "    except: \n",
    "            producer = \"NA\"\n",
    "            \n",
    "    try :\n",
    "        \n",
    "            writer = d[\"Written by\"]\n",
    "    except:\n",
    "            writer = \"NA\"\n",
    "    \n",
    "    \n",
    "    try :\n",
    "            starring = d[\"Starring\"].strip()\n",
    "    \n",
    "    except:\n",
    "            starring = \"NA\"\n",
    "            \n",
    "    try :\n",
    "        \n",
    "            music = d[\"Music by\"]\n",
    "    except :\n",
    "            music = \"NA\"\n",
    "        \n",
    "    try :\n",
    "            date = d[\"Release date\"]\n",
    "            release_date = date[date.find(\"(\"):date.find(\")\")][2:]\n",
    "            \n",
    "    except :\n",
    "        \n",
    "            release_date = \"NA\"\n",
    "            \n",
    "    try :\n",
    "            run_time = d[\"Running time\"]\n",
    "            \n",
    "    except :\n",
    "            run_time = \"NA\"\n",
    "            \n",
    "    try :\n",
    "            country = d[\"Country\"]\n",
    "            \n",
    "    except :\n",
    "            \n",
    "            country = \"NA\"\n",
    "            \n",
    "    try :\n",
    "            language = d[\"Language\"]\n",
    "            \n",
    "    except:\n",
    "            language = \"NA\"\n",
    "            \n",
    "            \n",
    "    try :\n",
    "            budget = d[\"Budget\"]\n",
    "            \n",
    "    except :\n",
    "            budget = \"NA\"\n",
    "            \n",
    "\n",
    "    with open(path+\"\\\\TSV\\\\article_\" + str(i) + \".tsv\", \"w\" ,encoding=\"utf-8\") as out_file:\n",
    "            tsv_writer = csv.writer(out_file, delimiter='\\t')\n",
    "            tsv_writer.writerow([title, intro, plot, director, producer, writer , starring, music, release_date,run_time, country , language , budget])\n"
   ]
  },
  {
   "cell_type": "code",
   "execution_count": 108,
   "metadata": {},
   "outputs": [
    {
     "data": {
      "text/plain": [
       "[<th scope=\"row\" style=\"white-space:nowrap;padding-right:0.65em;\">Written by</th>,\n",
       " <th scope=\"row\" style=\"white-space:nowrap;padding-right:0.65em;\">Based on</th>,\n",
       " <th scope=\"row\" style=\"white-space:nowrap;padding-right:0.65em;\">Starring</th>,\n",
       " <th scope=\"row\" style=\"white-space:nowrap;padding-right:0.65em;\">Distributed by</th>,\n",
       " <th scope=\"row\" style=\"white-space:nowrap;padding-right:0.65em;\"><div style=\"padding:0.1em 0;line-height:1.2em;white-space:normal;\">Release date</div></th>,\n",
       " <th scope=\"row\" style=\"white-space:nowrap;padding-right:0.65em;\"><div style=\"padding:0.1em 0;line-height:1.2em;white-space:normal;\">Running time</div></th>,\n",
       " <th scope=\"row\" style=\"white-space:nowrap;padding-right:0.65em;\">Country</th>,\n",
       " <th scope=\"row\" style=\"white-space:nowrap;padding-right:0.65em;\">Language</th>,\n",
       " <th class=\"navbox-title\" colspan=\"2\" scope=\"col\"><div class=\"plainlinks hlist navbar mini\"><ul><li class=\"nv-view\"><a href=\"/wiki/Template:A_Christmas_Carol\" title=\"Template:A Christmas Carol\"><abbr style=\";;background:none transparent;border:none;-moz-box-shadow:none;-webkit-box-shadow:none;box-shadow:none; padding:0;\" title=\"View this template\">v</abbr></a></li><li class=\"nv-talk\"><a href=\"/wiki/Template_talk:A_Christmas_Carol\" title=\"Template talk:A Christmas Carol\"><abbr style=\";;background:none transparent;border:none;-moz-box-shadow:none;-webkit-box-shadow:none;box-shadow:none; padding:0;\" title=\"Discuss this template\">t</abbr></a></li><li class=\"nv-edit\"><a class=\"external text\" href=\"https://en.wikipedia.org/w/index.php?title=Template:A_Christmas_Carol&amp;action=edit\"><abbr style=\";;background:none transparent;border:none;-moz-box-shadow:none;-webkit-box-shadow:none;box-shadow:none; padding:0;\" title=\"Edit this template\">e</abbr></a></li></ul></div><div id=\"Charles_Dickens&amp;#039;_A_Christmas_Carol\" style=\"font-size:114%;margin:0 4em\"><a href=\"/wiki/Charles_Dickens\" title=\"Charles Dickens\">Charles Dickens</a>' <i><a href=\"/wiki/A_Christmas_Carol\" title=\"A Christmas Carol\">A Christmas Carol</a></i></div></th>,\n",
       " <th class=\"navbox-group\" scope=\"row\" style=\"width:1%\">Characters</th>,\n",
       " <th class=\"navbox-group\" scope=\"row\" style=\"width:1%\">Films</th>,\n",
       " <th class=\"navbox-group\" scope=\"row\" style=\"width:1%\">Television</th>,\n",
       " <th class=\"navbox-group\" scope=\"row\" style=\"width:1%\">Musicals</th>,\n",
       " <th class=\"navbox-group\" scope=\"row\" style=\"width:1%\">Plays</th>,\n",
       " <th class=\"navbox-group\" scope=\"row\" style=\"width:1%\">Soundtracks</th>,\n",
       " <th class=\"navbox-group\" scope=\"row\" style=\"width:1%\">Other</th>]"
      ]
     },
     "execution_count": 108,
     "metadata": {},
     "output_type": "execute_result"
    }
   ],
   "source": [
    "soup.find('table', class_=\"infobox vevent\").find('th').find_all_next('th')"
   ]
  },
  {
   "cell_type": "code",
   "execution_count": 9,
   "metadata": {},
   "outputs": [],
   "source": [
    "stop_words = set(stopwords.words('english')) \n",
    "stemmer = PorterStemmer()"
   ]
  },
  {
   "cell_type": "code",
   "execution_count": 190,
   "metadata": {},
   "outputs": [],
   "source": [
    "for i in range(0,20):\n",
    "    f = open(\"articl_\" + str(i) + \".tsv\", encoding = \"utf-8\") \n",
    "    text = f.read()\n",
    "    f.close()\n",
    "    \n",
    "    words = word_tokenize(text) #devide the text into substrings\n",
    "    filtered1 = [w for w in words if not w in stop_words] #remove stop words\n",
    "    filtered2 = list(filter(lambda word: word not in string.punctuation, filtered1)) #remove punctuation\n",
    "    filtered3 = [stemmer.stem(w) for w in filtered2] #stemming\n",
    "    filtered4 = [c.replace(\"''\", \"\").replace(\"``\", \"\") for c in filtered3 ] #removing useless '' and  `` characters\n",
    "\n",
    "with open(path + \"\\\\WORDS\\\\final_\" + str(i) + \".tsv\", \"w\" ,encoding=\"utf-8\") as out_file:\n",
    "            tsv_writer = csv.writer(out_file, delimiter='\\t')\n",
    "            tsv_writer.writerow(filtered4)\n",
    "\n"
   ]
  }
 ],
 "metadata": {
  "kernelspec": {
   "display_name": "Python 3",
   "language": "python",
   "name": "python3"
  },
  "language_info": {
   "codemirror_mode": {
    "name": "ipython",
    "version": 3
   },
   "file_extension": ".py",
   "mimetype": "text/x-python",
   "name": "python",
   "nbconvert_exporter": "python",
   "pygments_lexer": "ipython3",
   "version": "3.7.3"
  }
 },
 "nbformat": 4,
 "nbformat_minor": 2
}

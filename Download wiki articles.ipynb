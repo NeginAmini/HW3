{
 "cells": [
  {
   "cell_type": "code",
   "execution_count": 1,
   "metadata": {},
   "outputs": [],
   "source": [
    "import os\n",
    "import csv\n",
    "from bs4 import BeautifulSoup\n",
    "import pandas as pd\n",
    "import requests as rq\n",
    "import time\n",
    "import random\n",
    "import unicodedata"
   ]
  },
  {
   "cell_type": "code",
   "execution_count": 2,
   "metadata": {},
   "outputs": [],
   "source": [
    "path = os.getcwd()\n",
    "movies = pd.DataFrame(pd.read_html(path + \"\\\\movies-1.html\")[0])\n",
    "movies.drop('Id', inplace=True, axis = 1)"
   ]
  },
  {
   "cell_type": "code",
   "execution_count": 3,
   "metadata": {},
   "outputs": [],
   "source": [
    "# for i in range(len(movies)):\n",
    "#     try:\n",
    "#         response = rq.get(movies.URL[i])\n",
    "#     except rq.exceptions.RequestException as e:\n",
    "#         print(e)\n",
    "#         time.sleep(20*60 + 30)\n",
    "#         response = rq.get(movies.URL[i])\n",
    "#     soup = BeautifulSoup(response.text, 'html.parser')\n",
    "#     f = open('article_'+str(i)+'.html','w')\n",
    "#     f.write(str(soup))\n",
    "#     f.close()\n",
    "#     time.sleep(random.choice(range(1,6)))"
   ]
  },
  {
   "cell_type": "code",
   "execution_count": 4,
   "metadata": {},
   "outputs": [],
   "source": [
    "path1 = path + '\\\\Articles'"
   ]
  },
  {
   "cell_type": "code",
   "execution_count": 6,
   "metadata": {},
   "outputs": [],
   "source": [
    "article = open(path1+'\\\\article_'+str(0)+'.html', 'r')\n",
    "soup = BeautifulSoup(article, 'html.parser')\n",
    "title = soup.select('h1')[0].text\n",
    "intro = soup.select('p')[0].text\n",
    "plot = 'No plot'\n",
    "if len(soup.select('p')) > 1:\n",
    "    plot = soup.select('p')[1].text\n",
    "d = {}\n",
    "for x,y in  zip(soup.table.find_all('th') , soup.table.find_all('td')):\n",
    "    d[x.text] = unicodedata.normalize('NFKD',y.text.strip().replace('\\n', ';'))"
   ]
  },
  {
   "cell_type": "code",
   "execution_count": 7,
   "metadata": {},
   "outputs": [
    {
     "data": {
      "text/plain": [
       "{'Love by the Light of the Moon': '',\n",
       " 'Directed by': 'Edwin S. Porter',\n",
       " 'Distributed by': 'Edison Manufacturing Company',\n",
       " 'Release date': '1901 (1901)',\n",
       " 'Country': 'United States',\n",
       " 'Language': 'Silent'}"
      ]
     },
     "execution_count": 7,
     "metadata": {},
     "output_type": "execute_result"
    }
   ],
   "source": [
    "d"
   ]
  },
  {
   "cell_type": "code",
   "execution_count": 10,
   "metadata": {},
   "outputs": [
    {
     "data": {
      "text/plain": [
       "'Love by the Light of the Moon is a 1901 film by Edwin S. Porter, produced by the Edison Manufacturing Company.[1] It mixes animation and live action and predates the man in the moon theme of the 1902 French science fiction film A Trip to the Moon by Georges Méliès.'"
      ]
     },
     "execution_count": 10,
     "metadata": {},
     "output_type": "execute_result"
    }
   ],
   "source": [
    "intro = soup.select('p')[0].text.strip()\n",
    "intro"
   ]
  },
  {
   "cell_type": "code",
   "execution_count": 133,
   "metadata": {},
   "outputs": [],
   "source": [
    "info = ['Film Name', 'Directed by', 'Producer', 'Writer', 'Starring', 'Music', 'release date', 'runtime', 'country', 'language', 'budget']"
   ]
  },
  {
   "cell_type": "code",
   "execution_count": 14,
   "metadata": {},
   "outputs": [],
   "source": [
    "for i in range(8646, 10000):\n",
    "    article = open(path1+'\\\\article_'+str(i)+'.html', 'r')\n",
    "    soup = BeautifulSoup(article, 'html.parser')\n",
    "    d = {}\n",
    "    try:\n",
    "        for x,y in  zip(soup.table.find_all('th') , soup.table.find_all('td')):\n",
    "            d[x.text] = unicodedata.normalize('NFKD',y.text.strip().replace('\\n', ';'))\n",
    "    except:\n",
    "        pass\n",
    "    title = str(soup.select('h1')[0].text)\n",
    "    #the title had \"- wikipedia\" after the film name. to remove \"- wikipedia\", I used split function and then took the first part\n",
    "    intro =  str(soup.select('p')[0].text).strip()\n",
    "    try:\n",
    "        plot = str(soup.select('p')[1].text).strip()\n",
    "    except:\n",
    "        plot = \"NA\"\n",
    "    article.close()\n",
    "\n",
    "        \n",
    "        \n",
    "    try :\n",
    "            director = d['Directed by']\n",
    "    except: \n",
    "            director = \"NA\"\n",
    "            \n",
    "    try :\n",
    "            producer = d['Produced by']\n",
    "    except: \n",
    "            producer = \"NA\"\n",
    "            \n",
    "    try :\n",
    "        \n",
    "            writer = d[\"Written by\"]\n",
    "    except:\n",
    "            writer = \"NA\"\n",
    "    \n",
    "    \n",
    "    try :\n",
    "            starring = d[\"Starring\"].strip().replace(\"\\n\",\",\")\n",
    "    \n",
    "    except:\n",
    "            starring = \"NA\"\n",
    "            \n",
    "    try :\n",
    "        \n",
    "            music = d[\"Music by\"]\n",
    "    except :\n",
    "            music = \"NA\"\n",
    "        \n",
    "    try :\n",
    "            date = d[\"Release date\"]\n",
    "            release_date = date[date.find(\"(\"):s.find(\")\")].strip()\n",
    "            \n",
    "    except :\n",
    "        \n",
    "            release_date = \"NA\"\n",
    "            \n",
    "    try :\n",
    "            run_time = d[\"Running time\"]\n",
    "            \n",
    "    except :\n",
    "            run_time = \"NA\"\n",
    "            \n",
    "    try :\n",
    "            country = d[\"Country\"]\n",
    "            \n",
    "    except :\n",
    "            \n",
    "            country = \"NA\"\n",
    "            \n",
    "    try :\n",
    "            language = d[\"Language\"]\n",
    "            \n",
    "    except:\n",
    "            language = \"NA\"\n",
    "            \n",
    "            \n",
    "    try :\n",
    "            budget = d[\"Budget\"]\n",
    "            \n",
    "    except :\n",
    "            budget = \"NA\"\n",
    "            \n",
    "\n",
    "    with open(path+\"\\\\TSV\\\\article_\" + str(i) + \".tsv\", \"w\" ,encoding=\"utf-8\") as out_file:\n",
    "            tsv_writer = csv.writer(out_file, delimiter='\\t')\n",
    "            tsv_writer.writerow([title, intro, plot, director, producer, writer , starring, music, release_date,run_time, country , language , budget])\n"
   ]
  }
 ],
 "metadata": {
  "kernelspec": {
   "display_name": "Python 3",
   "language": "python",
   "name": "python3"
  },
  "language_info": {
   "codemirror_mode": {
    "name": "ipython",
    "version": 3
   },
   "file_extension": ".py",
   "mimetype": "text/x-python",
   "name": "python",
   "nbconvert_exporter": "python",
   "pygments_lexer": "ipython3",
   "version": "3.7.3"
  }
 },
 "nbformat": 4,
 "nbformat_minor": 2
}

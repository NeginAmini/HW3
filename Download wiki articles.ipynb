{
 "cells": [
  {
   "cell_type": "code",
   "execution_count": 8,
   "metadata": {},
   "outputs": [
    {
     "name": "stderr",
     "output_type": "stream",
     "text": [
      "[nltk_data] Downloading package punkt to\n",
      "[nltk_data]     C:\\Users\\simon\\AppData\\Roaming\\nltk_data...\n",
      "[nltk_data]   Unzipping tokenizers\\punkt.zip.\n",
      "[nltk_data] Downloading package stopwords to\n",
      "[nltk_data]     C:\\Users\\simon\\AppData\\Roaming\\nltk_data...\n",
      "[nltk_data]   Unzipping corpora\\stopwords.zip.\n"
     ]
    }
   ],
   "source": [
    "import os\n",
    "import csv\n",
    "from bs4 import BeautifulSoup\n",
    "import pandas as pd\n",
    "import requests as rq\n",
    "import time\n",
    "import random\n",
    "import unicodedata\n",
    "import nltk\n",
    "nltk.download('punkt')\n",
    "nltk.download('stopwords')\n",
    "from nltk.corpus import stopwords \n",
    "from nltk.tokenize import word_tokenize\n",
    "from nltk.stem import *\n",
    "import string"
   ]
  },
  {
   "cell_type": "code",
   "execution_count": 3,
   "metadata": {},
   "outputs": [],
   "source": [
    "path = os.getcwd()\n",
    "movies = pd.DataFrame(pd.read_html(path + \"\\\\movies-1.html\")[0])\n",
    "movies.drop('Id', inplace=True, axis = 1)"
   ]
  },
  {
   "cell_type": "code",
   "execution_count": 3,
   "metadata": {},
   "outputs": [],
   "source": [
    "# for i in range(len(movies)):\n",
    "#     try:\n",
    "#         response = rq.get(movies.URL[i])\n",
    "#     except rq.exceptions.RequestException as e:\n",
    "#         print(e)\n",
    "#         time.sleep(20*60 + 30)\n",
    "#         response = rq.get(movies.URL[i])\n",
    "#     soup = BeautifulSoup(response.text, 'html.parser')\n",
    "#     f = open('article_'+str(i)+'.html','w')\n",
    "#     f.write(str(soup))\n",
    "#     f.close()\n",
    "#     time.sleep(random.choice(range(1,6)))"
   ]
  },
  {
   "cell_type": "code",
   "execution_count": 4,
   "metadata": {},
   "outputs": [],
   "source": [
    "path1 = path + '\\\\Articles'"
   ]
  },
  {
   "cell_type": "code",
   "execution_count": 6,
   "metadata": {},
   "outputs": [],
   "source": [
    "article = open(path1+'\\\\article_'+str(0)+'.html', 'r')\n",
    "soup = BeautifulSoup(article, 'html.parser')\n",
    "title = soup.select('h1')[0].text\n",
    "intro = soup.select('p')[0].text\n",
    "plot = 'No plot'\n",
    "if len(soup.select('p')) > 1:\n",
    "    plot = soup.select('p')[1].text\n",
    "d = {}\n",
    "for x,y in  zip(soup.table.find_all('th') , soup.table.find_all('td')):\n",
    "    d[x.text] = unicodedata.normalize('NFKD',y.text.strip().replace('\\n', ';'))"
   ]
  },
  {
   "cell_type": "code",
   "execution_count": 7,
   "metadata": {},
   "outputs": [
    {
     "data": {
      "text/plain": [
       "{'Love by the Light of the Moon': '',\n",
       " 'Directed by': 'Edwin S. Porter',\n",
       " 'Distributed by': 'Edison Manufacturing Company',\n",
       " 'Release date': '1901 (1901)',\n",
       " 'Country': 'United States',\n",
       " 'Language': 'Silent'}"
      ]
     },
     "execution_count": 7,
     "metadata": {},
     "output_type": "execute_result"
    }
   ],
   "source": [
    "d"
   ]
  },
  {
   "cell_type": "code",
   "execution_count": 10,
   "metadata": {},
   "outputs": [
    {
     "data": {
      "text/plain": [
       "'Love by the Light of the Moon is a 1901 film by Edwin S. Porter, produced by the Edison Manufacturing Company.[1] It mixes animation and live action and predates the man in the moon theme of the 1902 French science fiction film A Trip to the Moon by Georges Méliès.'"
      ]
     },
     "execution_count": 10,
     "metadata": {},
     "output_type": "execute_result"
    }
   ],
   "source": [
    "intro = soup.select('p')[0].text.strip()\n",
    "intro"
   ]
  },
  {
   "cell_type": "code",
   "execution_count": 177,
   "metadata": {},
   "outputs": [],
   "source": [
    "for i in range(0, 20):\n",
    "    article = open(path1+'\\\\article_'+str(i)+'.html', 'r')\n",
    "    soup = BeautifulSoup(article, 'html.parser')\n",
    "    d = {}\n",
    "    try:\n",
    "        for x,y in  zip(soup.find('table', class_=\"infobox vevent\").find_all('th') , soup.find('table', class_=\"infobox vevent\").find_all('td')):\n",
    "            d[x.text] = unicodedata.normalize('NFKD',y.text.strip().replace('\\n', ';'))\n",
    "    except:\n",
    "        pass\n",
    "    title = str(soup.select('h1')[0].text)\n",
    "    #the title had \"- wikipedia\" after the film name. to remove \"- wikipedia\", I used split function and then took the first part\n",
    "    \n",
    "    start = soup.find('p')\n",
    "    intro = start.text.strip()\n",
    "    for elem in start.next_siblings:\n",
    "        if elem.name != 'p':\n",
    "            break\n",
    "        intro += elem.text.strip()   \n",
    "          \n",
    "    try:\n",
    "        start = soup.find('h2').find_next('p')\n",
    "        plot = start.text.strip()\n",
    "        for elem in start.next_siblings:\n",
    "            if elem.name != 'p':\n",
    "                break\n",
    "            plot += elem.text.strip()\n",
    "        \n",
    "    except:\n",
    "        plot = \"NA\"\n",
    "    \n",
    "\n",
    "        \n",
    "        \n",
    "    try :\n",
    "            director = d['Directed by']\n",
    "    except: \n",
    "            director = \"NA\"\n",
    "            \n",
    "    try :\n",
    "            producer = d['Produced by']\n",
    "    except: \n",
    "            producer = \"NA\"\n",
    "            \n",
    "    try :\n",
    "        \n",
    "            writer = d[\"Written by\"]\n",
    "    except:\n",
    "            writer = \"NA\"\n",
    "    \n",
    "    \n",
    "    try :\n",
    "            starring = d[\"Starring\"].strip().replace(\"\\n\",\",\")\n",
    "    \n",
    "    except:\n",
    "            starring = \"NA\"\n",
    "            \n",
    "    try :\n",
    "        \n",
    "            music = d[\"Music by\"]\n",
    "    except :\n",
    "            music = \"NA\"\n",
    "        \n",
    "    try :\n",
    "            date = d[\"Release date\"]\n",
    "            release_date = date[date.find(\"(\"):s.find(\")\")].strip()\n",
    "            \n",
    "    except :\n",
    "        \n",
    "            release_date = \"NA\"\n",
    "            \n",
    "    try :\n",
    "            run_time = d[\"Running time\"]\n",
    "            \n",
    "    except :\n",
    "            run_time = \"NA\"\n",
    "            \n",
    "    try :\n",
    "            country = d[\"Country\"]\n",
    "            \n",
    "    except :\n",
    "            \n",
    "            country = \"NA\"\n",
    "            \n",
    "    try :\n",
    "            language = d[\"Language\"]\n",
    "            \n",
    "    except:\n",
    "            language = \"NA\"\n",
    "            \n",
    "            \n",
    "    try :\n",
    "            budget = d[\"Budget\"]\n",
    "            \n",
    "    except :\n",
    "            budget = \"NA\"\n",
    "            \n",
    "\n",
    "    with open(path+\"\\\\TSV\\\\article_\" + str(i) + \".tsv\", \"w\" ,encoding=\"utf-8\") as out_file:\n",
    "            tsv_writer = csv.writer(out_file, delimiter='\\t')\n",
    "            tsv_writer.writerow([title, intro, plot, director, producer, writer , starring, music, release_date,run_time, country , language , budget])\n"
   ]
  },
  {
   "cell_type": "code",
   "execution_count": 174,
   "metadata": {},
   "outputs": [
    {
     "data": {
      "text/plain": [
       "{'Jack and the Beanstalk': 'George S. FlemingEdwin S. Porter',\n",
       " 'Directed by': 'Edison Studios',\n",
       " 'Produced by': 'See below',\n",
       " 'Starring': 'Edwin S. Porter',\n",
       " 'Cinematography': '1902',\n",
       " 'Release date': '10 minutes',\n",
       " 'Running time': 'United States',\n",
       " 'Country': 'English'}"
      ]
     },
     "execution_count": 174,
     "metadata": {},
     "output_type": "execute_result"
    }
   ],
   "source": [
    "d = {}\n",
    "for x,y in  zip(soup.find('table', class_=\"infobox vevent\").find_all('th') , soup.find('table', class_=\"infobox vevent\").find_all('td')):\n",
    "    d[x.text] = unicodedata.normalize('NFKD',y.text.strip().replace('\\n', ';'))\n",
    "d"
   ]
  },
  {
   "cell_type": "code",
   "execution_count": null,
   "metadata": {},
   "outputs": [],
   "source": []
  },
  {
   "cell_type": "code",
   "execution_count": null,
   "metadata": {},
   "outputs": [],
   "source": []
  },
  {
   "cell_type": "code",
   "execution_count": 173,
   "metadata": {},
   "outputs": [
    {
     "data": {
      "text/plain": [
       "<table class=\"infobox vevent\" style=\"width:22em;font-size:90%;\"><tbody><tr><th class=\"summary\" colspan=\"2\" style=\"text-align:center;font-size:125%;font-weight:bold;font-size:110%;font-style:italic;\">Jack and the Beanstalk</th></tr><tr><th scope=\"row\" style=\"white-space:nowrap;padding-right:0.65em;\">Directed by</th><td><a href=\"/wiki/George_S._Fleming\" title=\"George S. Fleming\">George S. Fleming</a><br/><a href=\"/wiki/Edwin_S._Porter\" title=\"Edwin S. Porter\">Edwin S. Porter</a></td></tr><tr><th scope=\"row\" style=\"white-space:nowrap;padding-right:0.65em;\">Produced by</th><td>Edison Studios</td></tr><tr><th scope=\"row\" style=\"white-space:nowrap;padding-right:0.65em;\">Starring</th><td>See below</td></tr><tr><th scope=\"row\" style=\"white-space:nowrap;padding-right:0.65em;\">Cinematography</th><td><a href=\"/wiki/Edwin_S._Porter\" title=\"Edwin S. Porter\">Edwin S. Porter</a></td></tr><tr><th scope=\"row\" style=\"white-space:nowrap;padding-right:0.65em;\"><div style=\"padding:0.1em 0;line-height:1.2em;white-space:normal;\">Release date</div></th><td>1902</td></tr><tr><th scope=\"row\" style=\"white-space:nowrap;padding-right:0.65em;\"><div style=\"padding:0.1em 0;line-height:1.2em;white-space:normal;\">Running time</div></th><td>10 minutes</td></tr><tr><th scope=\"row\" style=\"white-space:nowrap;padding-right:0.65em;\">Country</th><td>United States</td></tr><tr><th scope=\"row\" style=\"white-space:nowrap;padding-right:0.65em;\">Language</th><td>English</td></tr></tbody></table>"
      ]
     },
     "execution_count": 173,
     "metadata": {},
     "output_type": "execute_result"
    }
   ],
   "source": [
    "soup.find('table', class_=\"infobox vevent\")"
   ]
  },
  {
   "cell_type": "code",
   "execution_count": 9,
   "metadata": {},
   "outputs": [],
   "source": [
    "stop_words = set(stopwords.words('english')) \n",
    "stemmer = PorterStemmer()"
   ]
  },
  {
   "cell_type": "code",
   "execution_count": 29,
   "metadata": {},
   "outputs": [],
   "source": [
    "import codecs\n",
    "for i in range(0,20):\n",
    "    f = codecs.open(path+\"\\\\TSV\\\\article_\" + str(i) + \".tsv\", encoding = 'utf-8') \n",
    "    text = f.read()\n",
    "    f.close()\n",
    "\n",
    "    words = word_tokenize(text) #devide the text into substrings\n",
    "    filtered1 = [w for w in words if not w in stop_words] #remove stop words\n",
    "    filtered2 = list(filter(lambda word: word not in string.punctuation, filtered1)) #remove punctuation\n",
    "    filtered3 = [stemmer.stem(w) for w in filtered2] #stemming\n",
    "    filtered4 = [c.replace(\"''\", \"\").replace(\"``\", \"\") for c in filtered3 ] #removing useless '' and  `` characters\n",
    "\n",
    "    with open(\"final_\" + str(i) + \".tsv\", \"w\" ,encoding=\"utf-8\") as out_file:\n",
    "                tsv_writer = csv.writer(out_file, delimiter='\\t')\n",
    "                tsv_writer.writerow(filtered4)\n"
   ]
  },
  {
   "cell_type": "code",
   "execution_count": 172,
   "metadata": {},
   "outputs": [
    {
     "name": "stdout",
     "output_type": "stream",
     "text": [
      "In this earliest known adaptation of the classic fairy tale, Jack first trades his cow for the bean. His mother then makes him drop them in the front yard, and go to his room. As he sleeps, Jack is visited by a fairy who shows him glimpses of what will await him when he ascends the bean stalk. In this version, Jack is the son of a deposed king.\n",
      "When Jack wakes up, he finds the beanstalk has grown and he climbs to the top where he enters the giant's home. The giant finds Jack, who narrowly escapes. The giant chases Jack down the bean stalk, but Jack is able to cut it down before the giant can get to safety. He falls and is killed. Jack celebrates. The fairy then reveals that Jack may return home as a prince.\n",
      "\n"
     ]
    }
   ],
   "source": [
    "i = 3\n",
    "article = open(path1+'\\\\article_'+str(i)+'.html', 'r')\n",
    "soup = BeautifulSoup(article, 'html.parser')\n",
    "for s in soup.find('h2').next_siblings:\n",
    "    if s.name == 'p':\n",
    "        print(s.text.strip())"
   ]
  },
  {
   "cell_type": "code",
   "execution_count": 123,
   "metadata": {},
   "outputs": [
    {
     "data": {
      "text/plain": [
       "''"
      ]
     },
     "execution_count": 123,
     "metadata": {},
     "output_type": "execute_result"
    }
   ],
   "source": [
    "a = []\n",
    "article = open(path1+'\\\\article_'+str(i)+'.html', 'r')\n",
    "soup = BeautifulSoup(article, 'html.parser')\n",
    "for s in soup.find('h2').previous_siblings:\n",
    "    if s.name == 'p':\n",
    "        a.append(s.text.strip())\n",
    "a = a[::-1]\n",
    "\n",
    "intro = ' '.join(a)\n",
    "intro"
   ]
  },
  {
   "cell_type": "code",
   "execution_count": 141,
   "metadata": {},
   "outputs": [
    {
     "data": {
      "text/plain": [
       "\"The Call of the Wild is a 1908 American short adventure film directed by D.W. Griffith. It starred Charles Inslee, Harry Solter and Florence Lawrence. The film was made by the American Mutoscope and Biograph Company when it and many other early film studios in America's first motion picture industry were based in Fort Lee, New Jersey at the beginning of the 20th century.[1] This film is preserved in the paper print collection of the Library of Congress.[2] Despite its similarity in title it is unrelated to the Jack London story.\""
      ]
     },
     "execution_count": 141,
     "metadata": {},
     "output_type": "execute_result"
    }
   ],
   "source": [
    "a = []\n",
    "for s in soup.find('h2').previous_siblings:\n",
    "    if s.name == 'p':\n",
    "        a.append(s.text.strip())\n",
    "a = a[::-1]\n",
    "' '.join(a)\n",
    "intro =  ' '.join(a)\n",
    "intro"
   ]
  },
  {
   "cell_type": "code",
   "execution_count": 154,
   "metadata": {},
   "outputs": [
    {
     "name": "stdout",
     "output_type": "stream",
     "text": [
      "Natasha \"Nat\" O'Brien is a celebrated pastry chef invited to London to assist in preparing a state dinner for the Queen, organized by culinary critic Maximillian \"Max\" Vandeveer. Natasha's ex-husband, Robert \"Robby\" Ross, is a fast food entrepreneur (\"the Taco King\") serving the \"everyman\" consumer while she caters to the affluent. Max is the \"calamitously fat\" grand gourmand publisher of a gourmet magazine Epicurious and is patron of several famous European chefs, each renowned for a signature dish.When Natasha arrives, Max is gloating over his latest issue, featuring \"the world's most fabulous meal,\" which highlights the culinary masterpieces of his favorite chefs. However, Max's health is failing from an addiction to those chefs' specialties. After completing the meal at Buckingham Palace, Natasha has a one-night fling with chef Louis Kohner whose speciality is baked pigeon in crust. The next morning, Natasha finds Louis dead in a 450° oven. After being questioned by Inspector Blodgett, Natasha and Robby depart for Venice, where Natasha is wooed by another chef, Fausto Zoppi, whose speciality is a lobster dish. However, when turning up for their date at his kitchen, Natasha finds Zoppi dead in a tank of lobsters.After more questioning, this time by Venice police, Natasha receives a call from Robby to come to Paris to help prevent one member of a group of French chefs from being murdered. When they arrive, they hold a meeting discussing how Louis and Zoppi were killed and what to do next. Later that night, after a phone call from Max (who learns from Beecham that Natasha is no longer in Venice, but in Paris staying with Robby), Natasha puts together what Louis and Zoppi had in common – both made a dish featured in the aforementioned magazine article. It is now known that the next to be killed will be Jean-Claude Moulineau, whose speciality is pressed duck. The disturbing fact is that the killings are following the order of a meal, so Natasha will be the last to be killed, her speciality being a dessert known as \"Le' Bombe Richelieu.\" Robby tries to calm Natasha down by suspecting Max as the killer, with the motive that he was the one who selected Natasha, Louis, Fausto and Jean-Claude to be in the magazine, but Natasha believes the killer is really Auguste Grandvilliers, with the motive that he was left off the list; however, when they attempt to call Moulineau to warn him, instead they receive a phone call from Grandvilliers that someone is at his restaurant. When they arrive, Robby and Natasha find Grandvilliers on a meat hook in the freezer, still alive.Robby and Natasha begin falling in love again. After being questioned by police, Natasha and Robby learn from Inspector Doyle that Moulineau was killed after being pushed headfirst into a duck-press. Back in London, Natasha is set to be a guest on A Moveable Feast. Robby initially decides to stay with her to keep her safe. However, Robby and Natasha learn from Max that Blodgett called Beecham to inform her that Grandvilliers confessed to the murders, so Robby can head to Brussels. As he is heading to the airport, he's watching Natasha on TV and realizes that the cake that Natasha is set to light – the cake Robby poked three holes into like a bowling ball – was switched and now has a bomb inside it. He calls Blodgett to confront him about Grandvilliers' confession, only to learn no one confessed. That's when Robby once again suspects Max is the killer. He arrives at the TV studio and rescues her just in time, as 30-45 seconds later, the cake explodes on-air. In the end, the killer turns out to be not Max, as Robby suspected, but Beecham, Max's dedicated assistant whose motive was to kill the chefs in a vain attempt to keep Max on his severe diet by removing the focus of his addiction. In the final scene, Robby and Natasha get remarried.\n"
     ]
    }
   ],
   "source": [
    "start = soup.find('h2').find_next('p')\n",
    "plot = start.text.strip()\n",
    "for elem in start.next_siblings:\n",
    "    if elem.name != 'p':\n",
    "        break\n",
    "    plot += elem.text.strip()\n",
    "print(plot)    "
   ]
  },
  {
   "cell_type": "code",
   "execution_count": 151,
   "metadata": {},
   "outputs": [
    {
     "data": {
      "text/plain": [
       "'Who Is Killing the Great Chefs of Europe?, released in the U.K. as Too Many Chefs, is a 1978 comedy mystery film directed by Ted Kotcheff and starring George Segal, Jacqueline Bisset and Robert Morley. It is based on the novel Someone is Killing the Great Chefs of Europe by Nan and Ivan Lyons. The chefs are each killed in a manner reflecting their most famous dishes (for example, the lobster chef is drowned). The film was co-produced by the U.S., Italy, France and West Germany. The film was originally distributed by Warner Bros. and produced by Lorimar. Warner Communications acquired Lorimar in 1989 and now owns the rights to the film.'"
      ]
     },
     "execution_count": 151,
     "metadata": {},
     "output_type": "execute_result"
    }
   ],
   "source": [
    "start = soup.find('p')\n",
    "intro = start.text.strip()\n",
    "for elem in start.next_siblings:\n",
    "    if elem.name != 'p':\n",
    "        break\n",
    "    intro += elem.text.strip()\n",
    "intro    "
   ]
  }
 ],
 "metadata": {
  "kernelspec": {
   "display_name": "Python 3",
   "language": "python",
   "name": "python3"
  },
  "language_info": {
   "codemirror_mode": {
    "name": "ipython",
    "version": 3
   },
   "file_extension": ".py",
   "mimetype": "text/x-python",
   "name": "python",
   "nbconvert_exporter": "python",
   "pygments_lexer": "ipython3",
   "version": "3.7.3"
  }
 },
 "nbformat": 4,
 "nbformat_minor": 2
}

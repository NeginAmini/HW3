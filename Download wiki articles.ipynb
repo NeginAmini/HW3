{
 "cells": [
  {
   "cell_type": "code",
   "execution_count": 313,
   "metadata": {},
   "outputs": [],
   "source": [
    "import os\n",
    "import csv\n",
    "from bs4 import BeautifulSoup\n",
    "import pandas as pd\n",
    "import requests as rq\n",
    "import time\n",
    "import random\n",
    "import unicodedata\n",
    "import nltk\n",
    "from nltk.corpus import stopwords \n",
    "from nltk.tokenize import word_tokenize\n",
    "from nltk.stem import *\n",
    "import string\n",
    "import re\n",
    "from math import *"
   ]
  },
  {
   "cell_type": "code",
   "execution_count": 5,
   "metadata": {},
   "outputs": [],
   "source": [
    "path = os.getcwd()\n",
    "movies = pd.DataFrame(pd.read_html(path + \"\\\\movies-1.html\")[0])\n",
    "movies.drop('Id', inplace=True, axis = 1)"
   ]
  },
  {
   "cell_type": "code",
   "execution_count": 111,
   "metadata": {},
   "outputs": [],
   "source": [
    "# for i in range(len(movies)):\n",
    "#     try:\n",
    "#         response = rq.get(movies.URL[i])\n",
    "#     except rq.exceptions.RequestException as e:\n",
    "#         print(e)\n",
    "#         time.sleep(20*60 + 30)\n",
    "#         response = rq.get(movies.URL[i])\n",
    "#     soup = BeautifulSoup(response.text, 'html.parser')\n",
    "#     f = open('article_'+str(i)+'.html','w')\n",
    "#     f.write(str(soup))\n",
    "#     f.close()\n",
    "#     time.sleep(random.choice(range(1,6)))"
   ]
  },
  {
   "cell_type": "code",
   "execution_count": 6,
   "metadata": {},
   "outputs": [],
   "source": [
    "path1 = path + '\\\\Articles'"
   ]
  },
  {
   "cell_type": "code",
   "execution_count": 198,
   "metadata": {},
   "outputs": [],
   "source": [
    "for i in range(10000):\n",
    "    article = open(path1+'\\\\article_'+str(i)+'.html', 'r')\n",
    "    soup = BeautifulSoup(article, 'html.parser')\n",
    "    d = {}\n",
    "    try:\n",
    "        for x in soup.find('table', class_=\"infobox vevent\").find('th').find_all_next('th'):\n",
    "            d[x.text] = unicodedata.normalize('NFKD',x.next_sibling.get_text(separator = '<br/>').replace('<br/>', ',').strip())\n",
    "    except:\n",
    "        pass\n",
    "    title = str(soup.select('h1')[0].text)\n",
    "    \n",
    "    start = soup.find('p')\n",
    "    intro = start.text.strip()\n",
    "    while len(intro) == 0:\n",
    "        start = start.find_next('p')\n",
    "        intro = start.text.strip()\n",
    "    for elem in start.next_siblings:\n",
    "        if elem.name != 'p':\n",
    "            break\n",
    "        intro += elem.text.strip()   \n",
    "          \n",
    "    try:\n",
    "        start = soup.find('h2').find_next('p')\n",
    "        plot = start.text.strip()\n",
    "        for elem in start.next_siblings:\n",
    "            if elem.name != 'p':\n",
    "                break\n",
    "            plot += elem.text.strip()\n",
    "        \n",
    "    except:\n",
    "        plot = \"NA\"\n",
    "    \n",
    "\n",
    "        \n",
    "        \n",
    "    try :\n",
    "            director = d['Directed by']\n",
    "    except: \n",
    "            director = \"NA\"\n",
    "            \n",
    "    try :\n",
    "            producer = d['Produced by']\n",
    "    except: \n",
    "            producer = \"NA\"\n",
    "            \n",
    "    try :\n",
    "        \n",
    "            writer = d[\"Written by\"]\n",
    "    except:\n",
    "            writer = \"NA\"\n",
    "    \n",
    "    \n",
    "    try :\n",
    "            starring = d[\"Starring\"].strip()\n",
    "    \n",
    "    except:\n",
    "            starring = \"NA\"\n",
    "            \n",
    "    try :\n",
    "        \n",
    "            music = d[\"Music by\"]\n",
    "    except :\n",
    "            music = \"NA\"\n",
    "        \n",
    "    try :\n",
    "            release_date = d[\"Release date\"]\n",
    "            \n",
    "    except :\n",
    "        \n",
    "            release_date = \"NA\"\n",
    "            \n",
    "    try :\n",
    "            run_time = d[\"Running time\"]\n",
    "            \n",
    "    except :\n",
    "            run_time = \"NA\"\n",
    "            \n",
    "    try :\n",
    "            country = d[\"Country\"]\n",
    "            \n",
    "    except :\n",
    "            \n",
    "            country = \"NA\"\n",
    "            \n",
    "    try :\n",
    "            language = d[\"Language\"]\n",
    "            \n",
    "    except:\n",
    "            language = \"NA\"\n",
    "            \n",
    "            \n",
    "    try :\n",
    "            budget = d[\"Budget\"]\n",
    "            \n",
    "    except :\n",
    "            budget = \"NA\"\n",
    "            \n",
    "\n",
    "    with open(path+\"\\\\TSV\\\\article_\" + str(i) + \".tsv\", \"w\" ,encoding=\"utf-8\") as out_file:\n",
    "            tsv_writer = csv.writer(out_file, delimiter='\\t')\n",
    "            tsv_writer.writerow([title, intro, plot, director, producer, writer , starring, music, release_date,run_time, country , language , budget])\n"
   ]
  },
  {
   "cell_type": "code",
   "execution_count": 16,
   "metadata": {},
   "outputs": [],
   "source": [
    "path2 = path+'\\\\TSV\\\\'"
   ]
  },
  {
   "cell_type": "code",
   "execution_count": 35,
   "metadata": {},
   "outputs": [],
   "source": [
    "stop_words = set(stopwords.words('english')) \n",
    "stemmer = PorterStemmer()"
   ]
  },
  {
   "cell_type": "code",
   "execution_count": 207,
   "metadata": {},
   "outputs": [],
   "source": [
    "allwords = []\n",
    "for i in range(0,10000):\n",
    "    with open(path2+\"article_\" + str(i) + \".tsv\", encoding = \"utf-8\") as fd:\n",
    "        rd = csv.reader(fd, delimiter=\"\\t\", quotechar='\"')\n",
    "        for row in rd:\n",
    "            if row :\n",
    "                tsv = row\n",
    "    text = ' '.join([tsv[1],tsv[2]])\n",
    "    text = text.lower()\n",
    "    \n",
    "    words = word_tokenize(text) #devide the text into substrings\n",
    "    filtered1 = [w for w in words if not w in stop_words] #remove stop words\n",
    "    filtered2 = list(filter(lambda word: word not in string.punctuation, filtered1))\n",
    "    filtered3 = []\n",
    "    for word in filtered2:\n",
    "        try:\n",
    "            filtered3 += re.findall(r'\\w+', word) \n",
    "        except:\n",
    "            pass\n",
    "    \n",
    "    filtered3 = [stemmer.stem(w) for w in filtered3] #stemming\n",
    "    filtered4 = [c.replace(\"''\", \"\").replace(\"``\", \"\") for c in filtered3 ] #removing useless '' and  `` characters\n",
    "    filtered4 = [f for f in filtered4 if len(f)>1]\n",
    "    \n",
    "    with open(path + \"\\\\WORDS\\\\final_\" + str(i) + \".tsv\", \"w\" ,encoding=\"utf-8\") as out_file:\n",
    "        tsv_writer = csv.writer(out_file, delimiter='\\t')\n",
    "        tsv_writer.writerow(filtered4)\n",
    "    allwords += filtered4\n"
   ]
  },
  {
   "cell_type": "code",
   "execution_count": 215,
   "metadata": {},
   "outputs": [],
   "source": [
    "allwords = set(allwords)"
   ]
  },
  {
   "cell_type": "code",
   "execution_count": 10,
   "metadata": {},
   "outputs": [],
   "source": [
    "path2 = path+'\\\\TSV\\\\'"
   ]
  },
  {
   "cell_type": "code",
   "execution_count": 194,
   "metadata": {},
   "outputs": [],
   "source": [
    "f = open(path2+'article_0.tsv', encoding = 'utf8')"
   ]
  },
  {
   "cell_type": "code",
   "execution_count": 216,
   "metadata": {},
   "outputs": [],
   "source": [
    "with open(path2+'article_9973.tsv', encoding = 'utf8') as fd:\n",
    "    rd = csv.reader(fd, delimiter=\"\\t\", quotechar='\"')\n",
    "    for row in rd:\n",
    "        if row :\n",
    "            tsv = row\n"
   ]
  },
  {
   "cell_type": "code",
   "execution_count": 311,
   "metadata": {},
   "outputs": [
    {
     "data": {
      "text/plain": [
       "{'Starring': '3', 'Release Year': '1982', 'Runtime': '84', 'Budget': '0'}"
      ]
     },
     "execution_count": 311,
     "metadata": {},
     "output_type": "execute_result"
    }
   ],
   "source": [
    "import re\n",
    "\n",
    "d = {}\n",
    "\n",
    "if tsv[6] == 'NA':\n",
    "    d['Starring'] = '0'\n",
    "else:\n",
    "    d['Starring'] = str(len(tsv[6].split(',')))\n",
    "\n",
    "try:\n",
    "    d['Release Year'] = re.search(r'\\d{4}', tsv[8]).group(0)\n",
    "except:\n",
    "    d['Release Year'] = '0'\n",
    "    \n",
    "try:\n",
    "    d['Runtime']      = re.search(r'\\d+.*',tsv[9]).group(0)\n",
    "except:\n",
    "    d['Runtime']    = '0'\n",
    "\n",
    "#some movies have running time expressed in reels, and the conversion in minutes is not univoque, so we'll just ignore those info\n",
    "if re.search(r'min', d['Runtime']):\n",
    "    d['Runtime'] = re.search(r'\\d+[\\.|\\,|:]*\\d*', d['Runtime']).group(0)\n",
    "    d['Runtime'] = re.search(r'\\d+', d['Runtime']).group(0)\n",
    "else:\n",
    "    d['Runtime'] = 0\n",
    "    \n",
    "try:\n",
    "    d['Budget']   = re.findall(r'\\$.*', tsv[12])[0]\n",
    "except:\n",
    "    d['Budget']  = '0'\n",
    "\n",
    "if re.search(r'mil', d['Budget']):\n",
    "    d['Budget']  = str(int(float(re.search(r'\\d+[\\.|\\,]*\\d*', d['Budget']).group(0))*10**6))\n",
    "elif re.search(r',', d['Budget']):\n",
    "    d['Budget'] = d['Budget'].replace(',', '').replace('$', '')\n",
    "else:\n",
    "    d['Budget'] = d['Budget'].replace('.', '').replace('$', '')\n",
    "\n",
    "d"
   ]
  },
  {
   "cell_type": "code",
   "execution_count": 319,
   "metadata": {},
   "outputs": [
    {
     "data": {
      "text/plain": [
       "7.624459905389723e-16"
      ]
     },
     "execution_count": 319,
     "metadata": {},
     "output_type": "execute_result"
    }
   ],
   "source": [
    "q = dict()\n",
    "q['runtime'] = 25\n",
    "Runtimes = [6,12,15,57,100,132]\n",
    "minrun = min(Runtimes)\n",
    "maxrun = max(Runtimes)\n",
    "runscore = exp(-(int(q['runtime'] -int(d['Runtime']))**2)/100)\n",
    "runscore"
   ]
  },
  {
   "cell_type": "code",
   "execution_count": 2,
   "metadata": {},
   "outputs": [
    {
     "name": "stdout",
     "output_type": "stream",
     "text": [
      "Do you prefer an old movie or a new-released movie? Please type O for Old and N for New:O\n",
      "Do you want to specify the release year ?Please type Y for Yes and N for No: Y\n",
      "please specify the release date1924\n",
      "Do you want to specify the length of the movie? Please type Y for Yes and N for No:Y\n",
      "please specify the length of the movie120\n",
      "Is number of stars an important factor for you? Please type Y for Yes and N for No:Y\n",
      "Is movie budget an important factor for you? Please type Y for Yes and N for No:10\n"
     ]
    }
   ],
   "source": [
    "q = dict()\n",
    "oldnew = input(\"Do you prefer an old movie or a new-released movie? Please type O for Old and N for New:\")\n",
    "if oldnew == \"O\" :\n",
    "    q[\"release\"] = \"O\"\n",
    "if oldnew == \"N\" :\n",
    "    q[\"release\"] = \"N\"\n",
    "    \n",
    "    \n",
    "    \n",
    "year = input(\"Do you want to specify the release year ?Please type Y for Yes and N for No: \")\n",
    "if year == \"N\" :\n",
    "    q[\"year\"] = \"NA\"\n",
    "if year == \"Y\" :\n",
    "    year = input(\"please specify the release date\") \n",
    "    q[\"year\"] = year\n",
    "    \n",
    "    \n",
    "\n",
    "Runtime = input(\"Do you want to specify the length of the movie? Please type Y for Yes and N for No:\")\n",
    "if Runtime == \"N\" :\n",
    "    q[\"Runtime\"] = \"NA\"\n",
    "if Runtime == \"Y\" :\n",
    "    Runtime = input(\"please specify the length of the movie\")\n",
    "    q[\"Runtime\"] = Runtime\n",
    "    \n",
    "    \n",
    "starring = input(\"Is number of stars an important factor for you? Please type Y for Yes and N for No:\")\n",
    "q[\"starring\"] = starring\n",
    "\n",
    "\n",
    "budget = input(\"Is movie budget an important factor for you? Please type Y for Yes and N for No:\")\n",
    "q[\"budget\"] = budget\n"
   ]
  }
 ],
 "metadata": {
  "kernelspec": {
   "display_name": "Python 3",
   "language": "python",
   "name": "python3"
  },
  "language_info": {
   "codemirror_mode": {
    "name": "ipython",
    "version": 3
   },
   "file_extension": ".py",
   "mimetype": "text/x-python",
   "name": "python",
   "nbconvert_exporter": "python",
   "pygments_lexer": "ipython3",
   "version": "3.7.3"
  }
 },
 "nbformat": 4,
 "nbformat_minor": 2
}

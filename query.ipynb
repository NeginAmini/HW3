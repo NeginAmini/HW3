{
 "cells": [
  {
   "cell_type": "code",
   "execution_count": 3,
   "metadata": {},
   "outputs": [],
   "source": [
    "import re\n",
    "import csv\n",
    "import os"
   ]
  },
  {
   "cell_type": "code",
   "execution_count": 4,
   "metadata": {},
   "outputs": [],
   "source": [
    "os.chdir('C:\\\\Users\\\\Nino\\\\ADM_HW3')"
   ]
  },
  {
   "cell_type": "code",
   "execution_count": 5,
   "metadata": {},
   "outputs": [],
   "source": [
    "f = open('article_0.tsv', encoding = 'utf8')"
   ]
  },
  {
   "cell_type": "code",
   "execution_count": 22,
   "metadata": {},
   "outputs": [],
   "source": [
    "with open('articl_10.tsv', encoding = 'utf8') as fd:\n",
    "    rd = csv.reader(fd, delimiter=\"\\t\", quotechar='\"')\n",
    "    for row in rd:\n",
    "        if row :\n",
    "            tsv = row"
   ]
  },
  {
   "cell_type": "code",
   "execution_count": 23,
   "metadata": {},
   "outputs": [
    {
     "data": {
      "text/plain": [
       "'$11 million'"
      ]
     },
     "execution_count": 23,
     "metadata": {},
     "output_type": "execute_result"
    }
   ],
   "source": [
    "tsv[12]"
   ]
  },
  {
   "cell_type": "code",
   "execution_count": 24,
   "metadata": {},
   "outputs": [],
   "source": [
    "\n",
    "\n",
    "d = {}\n",
    "\n",
    "if tsv[6] == 'NA':\n",
    "    d['Starring'] = 0\n",
    "else:\n",
    "    d['Starring'] = len(tsv[6].split(','))\n",
    "\n",
    "try:\n",
    "    d['Release Year'] = re.findall(r'\\d{4}', tsv[8])[0]\n",
    "except:\n",
    "    d['Release Year'] = 0\n",
    "    \n",
    "try:\n",
    "    d['Runtime']      = re.findall(r'\\d+',tsv[9])[0]\n",
    "except:\n",
    "    d['Runtime']    = 0\n",
    "    \n",
    "try:\n",
    "    d['Budget']   = re.findall(r'\\d+', tsv[12])[0]\n",
    "except:\n",
    "    d['Budget']  = 0"
   ]
  },
  {
   "cell_type": "code",
   "execution_count": 25,
   "metadata": {},
   "outputs": [
    {
     "data": {
      "text/plain": [
       "{'Starring': 5, 'Release Year': '1983', 'Runtime': '109', 'Budget': '11'}"
      ]
     },
     "execution_count": 25,
     "metadata": {},
     "output_type": "execute_result"
    }
   ],
   "source": [
    "d"
   ]
  },
  {
   "cell_type": "code",
   "execution_count": 34,
   "metadata": {},
   "outputs": [
    {
     "name": "stdout",
     "output_type": "stream",
     "text": [
      "Do you prefer an old movie or a new-released movie? Please type O for Old and N for New:O\n",
      "Do you want to specify the release year ?Please type Y for Yes and N for No: N\n",
      "Do you want to specify the length of the movie? Please type Y for Yes and N for No:Y\n",
      "please specify the length of the movie90\n",
      "Is number of stars an important factor for you? Please type Y for Yes and N for No:N\n",
      "Is movie budget an important factor for you? Please type Y for Yes and N for No:Y\n"
     ]
    }
   ],
   "source": [
    "#getting query\n",
    "q = dict()\n",
    "oldnew = input(\"Do you prefer an old movie or a new-released movie? Please type O for Old and N for New:\")\n",
    "if oldnew == \"O\" :\n",
    "    q[\"release\"] = \"O\"\n",
    "if oldnew == \"N\" :\n",
    "    q[\"release\"] = \"N\"\n",
    "    \n",
    "    \n",
    "    \n",
    "year = input(\"Do you want to specify the release year ?Please type Y for Yes and N for No: \")\n",
    "if year == \"N\" :\n",
    "    q[\"year\"] = \"NA\"\n",
    "if year == \"Y\" :\n",
    "    year = input(\"please specify the release date\") \n",
    "    q[\"year\"] = year\n",
    "    \n",
    "    \n",
    "\n",
    "Runtime = input(\"Do you want to specify the length of the movie? Please type Y for Yes and N for No:\")\n",
    "if Runtime == \"N\" :\n",
    "    q[\"Runtime\"] = \"NA\"\n",
    "if Runtime == \"Y\" :\n",
    "    Runtime = input(\"please specify the length of the movie\")\n",
    "    q[\"Runtime\"] = Runtime\n",
    "    \n",
    "    \n",
    "starring = input(\"Is number of stars an important factor for you? Please type Y for Yes and N for No:\")\n",
    "q[\"starring\"] = starring\n",
    "\n",
    "\n",
    "budget = input(\"Is movie budget an important factor for you? Please type Y for Yes and N for No:\")\n",
    "q[\"budget\"] = budget\n"
   ]
  },
  {
   "cell_type": "code",
   "execution_count": 35,
   "metadata": {},
   "outputs": [
    {
     "data": {
      "text/plain": [
       "{'release': 'O', 'year': 'NA', 'Runtime': '90', 'starring': 'N', 'budget': 'Y'}"
      ]
     },
     "execution_count": 35,
     "metadata": {},
     "output_type": "execute_result"
    }
   ],
   "source": [
    "q"
   ]
  },
  {
   "cell_type": "markdown",
   "metadata": {},
   "source": [
    "In this step I define a scoring function for \"release\" query that we got from user\n",
    "I use the values  of min, 20th percentile, 40th percentile, 60 th percentile, 80th percentile and max to evaluate a movie as a new or old one."
   ]
  },
  {
   "cell_type": "code",
   "execution_count": null,
   "metadata": {},
   "outputs": [],
   "source": [
    "''' df is the dataframe that we get after applying the first search engine\n",
    "import numpy as np \n",
    "minn = df[\"release_date\"].min()\n",
    "perc1 = np.percentile(df,20)\n",
    "perc2 = np.percentile(df,40)\n",
    "perc3 = np.percentile(df,60)\n",
    "perc4 = np.percentile(df,80)\n",
    "maxx = df[\"release_date\"].max()\n",
    "'''\n",
    "\n"
   ]
  },
  {
   "cell_type": "code",
   "execution_count": null,
   "metadata": {},
   "outputs": [],
   "source": [
    "def release_score (query,docIndex) :\n",
    "    m = df.iloc[docIndex][\"release_date\"]\n",
    "\n",
    "    if query == N :\n",
    "        if m in range(minn,perc1):\n",
    "            re_score = 20\n",
    "\n",
    "        elif m in range(perc1, perc2):\n",
    "            re_score = 40\n",
    "\n",
    "        elif m in range(perc2,perc3) :\n",
    "            re_score = 60\n",
    "\n",
    "        elif m in range(perc3,perc4) :\n",
    "            re_score = 80\n",
    "\n",
    "        elif m in range(parc4, maxx) :\n",
    "            re_score = 100\n",
    "\n",
    "        else :\n",
    "            re_score = 0\n",
    "\n",
    "\n",
    "\n",
    "    if query == O :\n",
    "        if m in range(minn,perc1):\n",
    "            re_score = 100\n",
    "\n",
    "        elif m in range(perc1, perc2):\n",
    "            re_score = 80\n",
    "\n",
    "        elif m in range(perc2,perc3) :\n",
    "            re_score = 60\n",
    "\n",
    "        elif m in range(perc3,perc4) :\n",
    "            re_score = 40\n",
    "\n",
    "        elif m in range(parc4, maxx) :\n",
    "            re_score = 20\n",
    "\n",
    "        else :\n",
    "            re_score = 0\n",
    "\n",
    "\n",
    "    return(re_score)"
   ]
  }
 ],
 "metadata": {
  "kernelspec": {
   "display_name": "Python 3",
   "language": "python",
   "name": "python3"
  },
  "language_info": {
   "codemirror_mode": {
    "name": "ipython",
    "version": 3
   },
   "file_extension": ".py",
   "mimetype": "text/x-python",
   "name": "python",
   "nbconvert_exporter": "python",
   "pygments_lexer": "ipython3",
   "version": "3.7.3"
  }
 },
 "nbformat": 4,
 "nbformat_minor": 2
}

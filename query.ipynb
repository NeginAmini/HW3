{
 "cells": [
  {
   "cell_type": "code",
   "execution_count": 3,
   "metadata": {},
   "outputs": [],
   "source": [
    "import re\n",
    "import csv\n",
    "import os"
   ]
  },
  {
   "cell_type": "code",
   "execution_count": 4,
   "metadata": {},
   "outputs": [],
   "source": [
    "os.chdir('C:\\\\Users\\\\Nino\\\\ADM_HW3')"
   ]
  },
  {
   "cell_type": "code",
   "execution_count": 5,
   "metadata": {},
   "outputs": [],
   "source": [
    "f = open('article_0.tsv', encoding = 'utf8')"
   ]
  },
  {
   "cell_type": "code",
   "execution_count": 22,
   "metadata": {},
   "outputs": [],
   "source": [
    "with open('articl_10.tsv', encoding = 'utf8') as fd:\n",
    "    rd = csv.reader(fd, delimiter=\"\\t\", quotechar='\"')\n",
    "    for row in rd:\n",
    "        if row :\n",
    "            tsv = row"
   ]
  },
  {
   "cell_type": "code",
   "execution_count": 23,
   "metadata": {},
   "outputs": [
    {
     "data": {
      "text/plain": [
       "'$11 million'"
      ]
     },
     "execution_count": 23,
     "metadata": {},
     "output_type": "execute_result"
    }
   ],
   "source": [
    "tsv[12]"
   ]
  },
  {
   "cell_type": "code",
   "execution_count": 24,
   "metadata": {},
   "outputs": [],
   "source": [
    "\n",
    "\n",
    "d = {}\n",
    "\n",
    "if tsv[6] == 'NA':\n",
    "    d['Starring'] = 0\n",
    "else:\n",
    "    d['Starring'] = len(tsv[6].split(','))\n",
    "\n",
    "try:\n",
    "    d['Release Year'] = re.findall(r'\\d{4}', tsv[8])[0]\n",
    "except:\n",
    "    d['Release Year'] = 0\n",
    "    \n",
    "try:\n",
    "    d['Runtime']      = re.findall(r'\\d+',tsv[9])[0]\n",
    "except:\n",
    "    d['Runtime']    = 0\n",
    "    \n",
    "try:\n",
    "    d['Budget']   = re.findall(r'\\d+', tsv[12])[0]\n",
    "except:\n",
    "    d['Budget']  = 0"
   ]
  },
  {
   "cell_type": "code",
   "execution_count": 25,
   "metadata": {},
   "outputs": [
    {
     "data": {
      "text/plain": [
       "{'Starring': 5, 'Release Year': '1983', 'Runtime': '109', 'Budget': '11'}"
      ]
     },
     "execution_count": 25,
     "metadata": {},
     "output_type": "execute_result"
    }
   ],
   "source": [
    "d"
   ]
  },
  {
   "cell_type": "code",
   "execution_count": 34,
   "metadata": {},
   "outputs": [
    {
     "name": "stdout",
     "output_type": "stream",
     "text": [
      "Do you prefer an old movie or a new-released movie? Please type O for Old and N for New:O\n",
      "Do you want to specify the release year ?Please type Y for Yes and N for No: N\n",
      "Do you want to specify the length of the movie? Please type Y for Yes and N for No:Y\n",
      "please specify the length of the movie90\n",
      "Is number of stars an important factor for you? Please type Y for Yes and N for No:N\n",
      "Is movie budget an important factor for you? Please type Y for Yes and N for No:Y\n"
     ]
    }
   ],
   "source": [
    "#getting query\n",
    "q = dict()\n",
    "oldnew = input(\"Do you prefer an old movie or a new-released movie? Please type O for Old and N for New:\")\n",
    "if oldnew == \"O\" :\n",
    "    q[\"release\"] = \"O\"\n",
    "if oldnew == \"N\" :\n",
    "    q[\"release\"] = \"N\"\n",
    "    \n",
    "    \n",
    "    \n",
    "year = input(\"Do you want to specify the release year ?Please type Y for Yes and N for No: \")\n",
    "if year == \"N\" :\n",
    "    q[\"year\"] = \"NA\"\n",
    "if year == \"Y\" :\n",
    "    year = input(\"please specify the release date\") \n",
    "    q[\"year\"] = year\n",
    "    \n",
    "    \n",
    "\n",
    "Runtime = input(\"Do you want to specify the length of the movie? Please type Y for Yes and N for No:\")\n",
    "if Runtime == \"N\" :\n",
    "    q[\"Runtime\"] = \"NA\"\n",
    "if Runtime == \"Y\" :\n",
    "    Runtime = input(\"please specify the length of the movie\")\n",
    "    q[\"Runtime\"] = Runtime\n",
    "    \n",
    "    \n",
    "starring = input(\"Is number of stars an important factor for you? Please type Y for Yes and N for No:\")\n",
    "q[\"starring\"] = starring\n",
    "\n",
    "\n",
    "budget = input(\"Is movie budget an important factor for you? Please type Y for Yes and N for No:\")\n",
    "q[\"budget\"] = budget\n"
   ]
  },
  {
   "cell_type": "code",
   "execution_count": 35,
   "metadata": {},
   "outputs": [
    {
     "data": {
      "text/plain": [
       "{'release': 'O', 'year': 'NA', 'Runtime': '90', 'starring': 'N', 'budget': 'Y'}"
      ]
     },
     "execution_count": 35,
     "metadata": {},
     "output_type": "execute_result"
    }
   ],
   "source": [
    "q"
   ]
  },
  {
   "cell_type": "code",
   "execution_count": null,
   "metadata": {},
   "outputs": [],
   "source": [
    "# df is the dataframe that we get after applying the first search engine\n",
    "\n",
    "minn = df[\"release_date\"].min()\n",
    "maxx = df[\"release_date\"].max()\n",
    "\n",
    "\n"
   ]
  },
  {
   "cell_type": "code",
   "execution_count": null,
   "metadata": {},
   "outputs": [],
   "source": [
    "\n",
    "def release_score (query,docIndex) :\n",
    "    m = df.iloc[int(docIndex)][\"release_date\"]\n",
    "    if (m != 0) :\n",
    "\n",
    "        if (query == N) :\n",
    "            return(100*(1 - (maxx - m)/(maxx - minn)))\n",
    "\n",
    "\n",
    "        if (query == O) :\n",
    "            return(100*(1 - (m - minn) / (maxx - minn)))\n",
    "        \n",
    "    else :\n",
    "        return(0)\n",
    "\n",
    "\n",
    "        return(re_score)"
   ]
  },
  {
   "cell_type": "code",
   "execution_count": 64,
   "metadata": {},
   "outputs": [
    {
     "data": {
      "text/plain": [
       "0.7408182206817179"
      ]
     },
     "execution_count": 64,
     "metadata": {},
     "output_type": "execute_result"
    }
   ],
   "source": [
    "import math\n",
    "math.exp(-3/10)"
   ]
  },
  {
   "cell_type": "code",
   "execution_count": null,
   "metadata": {},
   "outputs": [],
   "source": [
    "def Year_score (query,docIndex):\n",
    "    m = df.iloc[int(docIndex)][\"release_date\"]\n",
    "    distance = abs(m - query) \n",
    "    return(100*(math.exp(-distance/10)))\n",
    "    "
   ]
  },
  {
   "cell_type": "code",
   "execution_count": null,
   "metadata": {},
   "outputs": [],
   "source": []
  }
 ],
 "metadata": {
  "kernelspec": {
   "display_name": "Python 3",
   "language": "python",
   "name": "python3"
  },
  "language_info": {
   "codemirror_mode": {
    "name": "ipython",
    "version": 3
   },
   "file_extension": ".py",
   "mimetype": "text/x-python",
   "name": "python",
   "nbconvert_exporter": "python",
   "pygments_lexer": "ipython3",
   "version": "3.7.3"
  }
 },
 "nbformat": 4,
 "nbformat_minor": 2
}

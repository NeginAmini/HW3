{
 "cells": [
  {
   "cell_type": "markdown",
   "metadata": {},
   "source": [
    "# Algorithmic question\n",
    "## Longest Palindromic Subsequence"
   ]
  },
  {
   "cell_type": "markdown",
   "metadata": {},
   "source": [
    "Given a string $S$, a subsequence $s$ is obtained by combining characters in their order of appearance in $S$, whatever their position. The longest palindromic subsequence could be found checking all subsequences of a string, but that would take a running time of $O(2^n)$. Here's an implementation of this highly time-consuming recursive algorithm."
   ]
  },
  {
   "cell_type": "code",
   "execution_count": 862,
   "metadata": {},
   "outputs": [],
   "source": [
    "def toolongpalindromic(S):\n",
    "    maxlen = 0\n",
    "    if len(S) <= 1:\n",
    "        return(len(S))\n",
    "    if S[0]==S[-1]:\n",
    "        maxlen += 2 + toolongpalindromic(S[1:-1])\n",
    "    else:\n",
    "        maxlen += max(toolongpalindromic(S[:-1]), toolongpalindromic(S[1:]))\n",
    "    return(maxlen)"
   ]
  },
  {
   "cell_type": "code",
   "execution_count": 863,
   "metadata": {},
   "outputs": [
    {
     "data": {
      "text/plain": [
       "7"
      ]
     },
     "execution_count": 863,
     "metadata": {},
     "output_type": "execute_result"
    }
   ],
   "source": [
    "toolongpalindromic('dataminingsapienza')"
   ]
  },
  {
   "cell_type": "code",
   "execution_count": 880,
   "metadata": {},
   "outputs": [
    {
     "data": {
      "text/plain": [
       "0.03191256523132324"
      ]
     },
     "execution_count": 880,
     "metadata": {},
     "output_type": "execute_result"
    }
   ],
   "source": [
    "import time\n",
    "st = time.time()\n",
    "toolongpalindromic('dataminingsapienza')\n",
    "time.time()-st"
   ]
  },
  {
   "cell_type": "markdown",
   "metadata": {},
   "source": [
    "To solve this problem in a polynomial time we can use dynamic programming, with which we check only the extreme characters of each substring, and if they are identical we add $2$ to the length of the longest palindromic subsequence found between the extremes of the current substring, otherwise it keeps the greatest of the palindromic subsequences found in substrings of the current subsequence.\n",
    "\n",
    "In order to do this, we store the length of all palindromic subsequences and their position in a square array $A$ of size n (the length of $S$), in which rows and columns are respectively the starting and ending positions of substrings built with consecutive characters of $S$, where $A_{i, i+j},\\ 0\\leq i \\leq n,\\ 0<j\\leq n-i$ is the length of the longest palindromic subsequence in the substring $S[i,i+j]$. Starting on the main diagonal, we store lengths of subsequences of $1$ charachter, which are palindromic since they \"start and end\" with the same character. Initializing the array with an identity matrix, we can then proceed for substrings of length $>1$, checking if the extremes are identical. If that's the case, we add $2$ to the element one position down and one left of the current position, which means that we are adding the $2$ extremes to the letter count of the longest palindromic sequence found between the extremes (for subsequences of length $2$, the $0$'s below the main diagonal of the identity matrix will be the starting values, since for those subsequences there's $0$ elements between the extremes). If the extremes are different, we take the highest value between the element $1$ position down and the one that's $1$ position left the current one, which means that the current substring of length $j$ inherits the longest palindromic subsequence count from the two overlapping substrings of length $j-1$ that built it, the first starting from the leftmost and the second ending at the rightmost character of the current substring. \n",
    "\n",
    "With dynamic programming, the algorithm keeps memory of the longest palindromic subsequences for substrings of growing length, until the full length of $S$ is reached, for which the same procedure is applied. The final result, i.e. the length of the longest palindromic subsequence in the substring of length $n$ ($S$ itself), is obtained in the upper-right position of $A$, $A_{0,n}$."
   ]
  },
  {
   "cell_type": "markdown",
   "metadata": {},
   "source": [
    "### The solution obtained through dynamic programming has a running time of the order of $O(n)^2$."
   ]
  },
  {
   "cell_type": "code",
   "execution_count": 857,
   "metadata": {},
   "outputs": [],
   "source": [
    "# Defining a function to get substring of length l from the string S\n",
    "def substrings(S, l):\n",
    "    L = []\n",
    "    for i in range(len(S)-l+1):\n",
    "        L.append(S[i:i+l])\n",
    "    return(L)\n",
    "\n",
    "def longestpalindromic(S):\n",
    "    arr = np.identity(len(S), dtype='int')\n",
    "    for j in range(1,len(S)):\n",
    "        strings = subsstrings(S, j+1)\n",
    "        for i in range(len(S)-j):\n",
    "            s = strings[i]\n",
    "            if s[0] == s[-1]:\n",
    "                arr[i][i+j] = arr[i+1][i+j-1]+2\n",
    "            else:\n",
    "                arr[i][i+j] = max(arr[i+1][i+j],arr[i][i+j-1])\n",
    "    return arr[0][-1]"
   ]
  },
  {
   "cell_type": "code",
   "execution_count": 858,
   "metadata": {},
   "outputs": [
    {
     "data": {
      "text/plain": [
       "7"
      ]
     },
     "execution_count": 858,
     "metadata": {},
     "output_type": "execute_result"
    }
   ],
   "source": [
    "longestpalindromic('dataminingsapienza')"
   ]
  },
  {
   "cell_type": "code",
   "execution_count": 881,
   "metadata": {},
   "outputs": [
    {
     "data": {
      "text/plain": [
       "0.0009980201721191406"
      ]
     },
     "execution_count": 881,
     "metadata": {},
     "output_type": "execute_result"
    }
   ],
   "source": [
    "st = time.time()\n",
    "longestpalindromic('dataminingsapienza')\n",
    "time.time()-st\n"
   ]
  }
 ],
 "metadata": {
  "kernelspec": {
   "display_name": "Python 3",
   "language": "python",
   "name": "python3"
  },
  "language_info": {
   "codemirror_mode": {
    "name": "ipython",
    "version": 3
   },
   "file_extension": ".py",
   "mimetype": "text/x-python",
   "name": "python",
   "nbconvert_exporter": "python",
   "pygments_lexer": "ipython3",
   "version": "3.7.3"
  }
 },
 "nbformat": 4,
 "nbformat_minor": 2
}
